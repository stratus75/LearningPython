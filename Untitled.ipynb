{
 "cells": [
  {
   "cell_type": "code",
   "execution_count": 47,
   "metadata": {
    "collapsed": true
   },
   "outputs": [],
   "source": [
    "from random import randint"
   ]
  },
  {
   "cell_type": "code",
   "execution_count": 48,
   "metadata": {
    "collapsed": true
   },
   "outputs": [],
   "source": [
    "from time import sleep"
   ]
  },
  {
   "cell_type": "code",
   "execution_count": 49,
   "metadata": {
    "collapsed": true
   },
   "outputs": [],
   "source": [
    "def get_user_guess():\n",
    " user_guess =  int(input('Guess a number: '))\n",
    " return user_guess"
   ]
  },
  {
   "cell_type": "code",
   "execution_count": 50,
   "metadata": {
    "collapsed": false
   },
   "outputs": [],
   "source": [
    "def roll_dice(number_of_sides):\n",
    "    first_roll = randint(1, number_of_sides)\n",
    "    second_roll = randint(1, number_of_sides)\n",
    "    max_val = number_of_sides * 2\n",
    "    print('The max possible value is:' + str((max_val)))\n",
    "    sleep(1)\n",
    "    user_guess = get_user_guess()\n",
    "    if user_guess > max_val:\n",
    "        print('This value is to large!')\n",
    "        return #print('Now exiting program')\n",
    "    else:\n",
    "        print('Rolling...')\n",
    "        sleep(2)\n",
    "        print('This %d is your first roll' % (first_roll))\n",
    "        sleep(1)\n",
    "        print('This %d is your second roll' % (second_roll))\n",
    "        sleep(1)\n",
    "        total_roll = first_roll + second_roll\n",
    "        print('The Result is ....')\n",
    "        sleep(1)\n",
    "        if user_guess > total_roll:\n",
    "            print('You have one! dice rolled %d and your guess was %d' % (total_roll, user_guess))\n",
    "            return\n",
    "        else:\n",
    "          print('Sorry but your guess was in correct')\n",
    "          return"
   ]
  },
  {
   "cell_type": "code",
   "execution_count": 51,
   "metadata": {
    "collapsed": false
   },
   "outputs": [
    {
     "name": "stdout",
     "output_type": "stream",
     "text": [
      "The max possible value is:12\n",
      "Guess a number: 6\n",
      "Rolling...\n",
      "This 6 is your first roll\n",
      "This 5 is your second roll\n",
      "The Result is ....\n",
      "Sorry but your guess was in correct\n"
     ]
    }
   ],
   "source": [
    "roll_dice(6) "
   ]
  },
  {
   "cell_type": "code",
   "execution_count": null,
   "metadata": {
    "collapsed": true
   },
   "outputs": [],
   "source": []
  },
  {
   "cell_type": "code",
   "execution_count": null,
   "metadata": {
    "collapsed": true
   },
   "outputs": [],
   "source": []
  }
 ],
 "metadata": {
  "kernelspec": {
   "display_name": "Python 3",
   "language": "python",
   "name": "python3"
  },
  "language_info": {
   "codemirror_mode": {
    "name": "ipython",
    "version": 3
   },
   "file_extension": ".py",
   "mimetype": "text/x-python",
   "name": "python",
   "nbconvert_exporter": "python",
   "pygments_lexer": "ipython3",
   "version": "3.6.0"
  }
 },
 "nbformat": 4,
 "nbformat_minor": 2
}
